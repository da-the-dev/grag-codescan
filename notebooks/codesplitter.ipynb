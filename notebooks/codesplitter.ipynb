{
 "cells": [
  {
   "cell_type": "markdown",
   "metadata": {},
   "source": [
    "# Codescan w/ Codesplitter"
   ]
  },
  {
   "cell_type": "markdown",
   "metadata": {},
   "source": [
    "## Setup"
   ]
  },
  {
   "cell_type": "code",
   "execution_count": 2,
   "metadata": {},
   "outputs": [],
   "source": [
    "import nest_asyncio\n",
    "\n",
    "nest_asyncio.apply()"
   ]
  },
  {
   "cell_type": "code",
   "execution_count": 3,
   "metadata": {},
   "outputs": [],
   "source": [
    "import mlflow\n",
    "\n",
    "mlflow.llama_index.autolog()\n",
    "\n",
    "mlflow.set_tracking_uri(\"http://localhost:5000\")"
   ]
  },
  {
   "cell_type": "markdown",
   "metadata": {},
   "source": [
    "## Models"
   ]
  },
  {
   "cell_type": "code",
   "execution_count": 4,
   "metadata": {},
   "outputs": [],
   "source": [
    "LLM = \"deepseek-r1\"\n",
    "EMBED_MODEL = \"jinaai/jina-embeddings-v2-base-code\""
   ]
  },
  {
   "cell_type": "code",
   "execution_count": 5,
   "metadata": {},
   "outputs": [
    {
     "data": {
      "application/vnd.jupyter.widget-view+json": {
       "model_id": "83b50fb377f44784a3cb49669bf6c1c9",
       "version_major": 2,
       "version_minor": 0
      },
      "text/plain": [
       "modules.json:   0%|          | 0.00/229 [00:00<?, ?B/s]"
      ]
     },
     "metadata": {},
     "output_type": "display_data"
    },
    {
     "data": {
      "application/vnd.jupyter.widget-view+json": {
       "model_id": "8b9436478ba4458fb448fb083e2ffdb7",
       "version_major": 2,
       "version_minor": 0
      },
      "text/plain": [
       "README.md:   0%|          | 0.00/7.44k [00:00<?, ?B/s]"
      ]
     },
     "metadata": {},
     "output_type": "display_data"
    },
    {
     "data": {
      "application/vnd.jupyter.widget-view+json": {
       "model_id": "8891a521daf34104983a68c5a46464c2",
       "version_major": 2,
       "version_minor": 0
      },
      "text/plain": [
       "sentence_bert_config.json:   0%|          | 0.00/99.0 [00:00<?, ?B/s]"
      ]
     },
     "metadata": {},
     "output_type": "display_data"
    },
    {
     "data": {
      "application/vnd.jupyter.widget-view+json": {
       "model_id": "4ebdd09575674b8e9002c9e0efbae064",
       "version_major": 2,
       "version_minor": 0
      },
      "text/plain": [
       "config.json:   0%|          | 0.00/1.22k [00:00<?, ?B/s]"
      ]
     },
     "metadata": {},
     "output_type": "display_data"
    },
    {
     "data": {
      "application/vnd.jupyter.widget-view+json": {
       "model_id": "5df74aa9a64f45f7aac785bf373de3a0",
       "version_major": 2,
       "version_minor": 0
      },
      "text/plain": [
       "model.safetensors:   0%|          | 0.00/322M [00:00<?, ?B/s]"
      ]
     },
     "metadata": {},
     "output_type": "display_data"
    },
    {
     "name": "stderr",
     "output_type": "stream",
     "text": [
      "Some weights of BertModel were not initialized from the model checkpoint at jinaai/jina-embeddings-v2-base-code and are newly initialized: ['embeddings.position_embeddings.weight', 'encoder.layer.0.intermediate.dense.bias', 'encoder.layer.0.intermediate.dense.weight', 'encoder.layer.0.output.LayerNorm.bias', 'encoder.layer.0.output.LayerNorm.weight', 'encoder.layer.0.output.dense.bias', 'encoder.layer.0.output.dense.weight', 'encoder.layer.1.intermediate.dense.bias', 'encoder.layer.1.intermediate.dense.weight', 'encoder.layer.1.output.LayerNorm.bias', 'encoder.layer.1.output.LayerNorm.weight', 'encoder.layer.1.output.dense.bias', 'encoder.layer.1.output.dense.weight', 'encoder.layer.10.intermediate.dense.bias', 'encoder.layer.10.intermediate.dense.weight', 'encoder.layer.10.output.LayerNorm.bias', 'encoder.layer.10.output.LayerNorm.weight', 'encoder.layer.10.output.dense.bias', 'encoder.layer.10.output.dense.weight', 'encoder.layer.11.intermediate.dense.bias', 'encoder.layer.11.intermediate.dense.weight', 'encoder.layer.11.output.LayerNorm.bias', 'encoder.layer.11.output.LayerNorm.weight', 'encoder.layer.11.output.dense.bias', 'encoder.layer.11.output.dense.weight', 'encoder.layer.2.intermediate.dense.bias', 'encoder.layer.2.intermediate.dense.weight', 'encoder.layer.2.output.LayerNorm.bias', 'encoder.layer.2.output.LayerNorm.weight', 'encoder.layer.2.output.dense.bias', 'encoder.layer.2.output.dense.weight', 'encoder.layer.3.intermediate.dense.bias', 'encoder.layer.3.intermediate.dense.weight', 'encoder.layer.3.output.LayerNorm.bias', 'encoder.layer.3.output.LayerNorm.weight', 'encoder.layer.3.output.dense.bias', 'encoder.layer.3.output.dense.weight', 'encoder.layer.4.intermediate.dense.bias', 'encoder.layer.4.intermediate.dense.weight', 'encoder.layer.4.output.LayerNorm.bias', 'encoder.layer.4.output.LayerNorm.weight', 'encoder.layer.4.output.dense.bias', 'encoder.layer.4.output.dense.weight', 'encoder.layer.5.intermediate.dense.bias', 'encoder.layer.5.intermediate.dense.weight', 'encoder.layer.5.output.LayerNorm.bias', 'encoder.layer.5.output.LayerNorm.weight', 'encoder.layer.5.output.dense.bias', 'encoder.layer.5.output.dense.weight', 'encoder.layer.6.intermediate.dense.bias', 'encoder.layer.6.intermediate.dense.weight', 'encoder.layer.6.output.LayerNorm.bias', 'encoder.layer.6.output.LayerNorm.weight', 'encoder.layer.6.output.dense.bias', 'encoder.layer.6.output.dense.weight', 'encoder.layer.7.intermediate.dense.bias', 'encoder.layer.7.intermediate.dense.weight', 'encoder.layer.7.output.LayerNorm.bias', 'encoder.layer.7.output.LayerNorm.weight', 'encoder.layer.7.output.dense.bias', 'encoder.layer.7.output.dense.weight', 'encoder.layer.8.intermediate.dense.bias', 'encoder.layer.8.intermediate.dense.weight', 'encoder.layer.8.output.LayerNorm.bias', 'encoder.layer.8.output.LayerNorm.weight', 'encoder.layer.8.output.dense.bias', 'encoder.layer.8.output.dense.weight', 'encoder.layer.9.intermediate.dense.bias', 'encoder.layer.9.intermediate.dense.weight', 'encoder.layer.9.output.LayerNorm.bias', 'encoder.layer.9.output.LayerNorm.weight', 'encoder.layer.9.output.dense.bias', 'encoder.layer.9.output.dense.weight']\n",
      "You should probably TRAIN this model on a down-stream task to be able to use it for predictions and inference.\n"
     ]
    },
    {
     "data": {
      "application/vnd.jupyter.widget-view+json": {
       "model_id": "2ce37003b66e47cd98cdb3c6af18b028",
       "version_major": 2,
       "version_minor": 0
      },
      "text/plain": [
       "tokenizer_config.json:   0%|          | 0.00/493 [00:00<?, ?B/s]"
      ]
     },
     "metadata": {},
     "output_type": "display_data"
    },
    {
     "data": {
      "application/vnd.jupyter.widget-view+json": {
       "model_id": "6172ba552d454d0f876bae6be0090ca9",
       "version_major": 2,
       "version_minor": 0
      },
      "text/plain": [
       "vocab.json:   0%|          | 0.00/971k [00:00<?, ?B/s]"
      ]
     },
     "metadata": {},
     "output_type": "display_data"
    },
    {
     "data": {
      "application/vnd.jupyter.widget-view+json": {
       "model_id": "77fba0cdece14284bd446b37ea3a935b",
       "version_major": 2,
       "version_minor": 0
      },
      "text/plain": [
       "tokenizer.json:   0%|          | 0.00/2.56M [00:00<?, ?B/s]"
      ]
     },
     "metadata": {},
     "output_type": "display_data"
    },
    {
     "data": {
      "application/vnd.jupyter.widget-view+json": {
       "model_id": "a6b50f079c6e4a53aa09b8506158ae22",
       "version_major": 2,
       "version_minor": 0
      },
      "text/plain": [
       "special_tokens_map.json:   0%|          | 0.00/280 [00:00<?, ?B/s]"
      ]
     },
     "metadata": {},
     "output_type": "display_data"
    },
    {
     "data": {
      "application/vnd.jupyter.widget-view+json": {
       "model_id": "1ec6aa3557de4fdd887e2529a7342129",
       "version_major": 2,
       "version_minor": 0
      },
      "text/plain": [
       "1_Pooling%2Fconfig.json:   0%|          | 0.00/191 [00:00<?, ?B/s]"
      ]
     },
     "metadata": {},
     "output_type": "display_data"
    }
   ],
   "source": [
    "from llama_index.core import Settings\n",
    "from llama_index.llms.ollama import Ollama\n",
    "from llama_index.embeddings.huggingface import HuggingFaceEmbedding\n",
    "\n",
    "\n",
    "Settings.llm = Ollama(\n",
    "    LLM,\n",
    "    request_timeout=3 * 60,\n",
    "    async_mode=True,\n",
    ")\n",
    "Settings.embed_model = HuggingFaceEmbedding(EMBED_MODEL)"
   ]
  },
  {
   "cell_type": "markdown",
   "metadata": {},
   "source": [
    "## Reading data"
   ]
  },
  {
   "cell_type": "code",
   "execution_count": null,
   "metadata": {},
   "outputs": [
    {
     "data": {
      "text/plain": [
       "[Document(id_='2d5e281f435fe2d9e7d34cdb7a35b8c699b858d9', embedding=None, metadata={'file_path': 'api-gateway/src/main/java/api/gateway/com/ApiGatewayApplication.java', 'file_name': 'ApiGatewayApplication.java', 'url': 'https://api.github.com/cruderra/food-delivery-demo/blob/main/api-gateway/src/main/java/api/gateway/com/ApiGatewayApplication.java'}, excluded_embed_metadata_keys=[], excluded_llm_metadata_keys=[], relationships={}, metadata_template='{key}: {value}', metadata_separator='\\n', text_resource=MediaResource(embeddings=None, data=None, text='package api.gateway.com;\\n\\nimport org.springframework.boot.SpringApplication;\\nimport org.springframework.boot.autoconfigure.SpringBootApplication;\\n\\n@SpringBootApplication\\npublic class ApiGatewayApplication {\\n\\n\\tpublic static void main(String[] args) {\\n\\t\\tSpringApplication.run(ApiGatewayApplication.class, args);\\n\\t}\\n\\n}\\n', path=None, url=None, mimetype=None), image_resource=None, audio_resource=None, video_resource=None, text_template='{metadata_str}\\n\\n{content}'),\n",
       " Document(id_='bcfa257906e54c6c815f3a1983ba753b92f3aa06', embedding=None, metadata={'file_path': 'api-gateway/src/main/java/api/gateway/com/config/ClientConfig.java', 'file_name': 'ClientConfig.java', 'url': 'https://api.github.com/cruderra/food-delivery-demo/blob/main/api-gateway/src/main/java/api/gateway/com/config/ClientConfig.java'}, excluded_embed_metadata_keys=[], excluded_llm_metadata_keys=[], relationships={}, metadata_template='{key}: {value}', metadata_separator='\\n', text_resource=MediaResource(embeddings=None, data=None, text='package api.gateway.com.config;\\n\\nimport org.springframework.boot.web.client.RestTemplateBuilder;\\nimport org.springframework.context.annotation.Bean;\\nimport org.springframework.context.annotation.Configuration;\\nimport org.springframework.web.client.RestTemplate;\\n\\n@Configuration\\npublic class ClientConfig {\\n\\n    @Bean\\n    public RestTemplate getRestTemplate(RestTemplateBuilder builder) {\\n        return builder.build();\\n    }\\n\\n}\\n', path=None, url=None, mimetype=None), image_resource=None, audio_resource=None, video_resource=None, text_template='{metadata_str}\\n\\n{content}'),\n",
       " Document(id_='2d429d7460bf00d833b1b45f09fcdf3ef8a429f0', embedding=None, metadata={'file_path': 'api-gateway/src/main/java/api/gateway/com/config/OtlpConfig.java', 'file_name': 'OtlpConfig.java', 'url': 'https://api.github.com/cruderra/food-delivery-demo/blob/main/api-gateway/src/main/java/api/gateway/com/config/OtlpConfig.java'}, excluded_embed_metadata_keys=[], excluded_llm_metadata_keys=[], relationships={}, metadata_template='{key}: {value}', metadata_separator='\\n', text_resource=MediaResource(embeddings=None, data=None, text='package api.gateway.com.config;\\n\\nimport io.opentelemetry.exporter.otlp.trace.OtlpGrpcSpanExporter;\\nimport org.springframework.beans.factory.annotation.Value;\\nimport org.springframework.context.annotation.Bean;\\nimport org.springframework.context.annotation.Configuration;\\n\\n@Configuration\\npublic class OtlpConfig {\\n\\n    @Value(\"${otlp.grpc.uri}\")\\n    private String otlpGrpcUri;\\n\\n    @Bean\\n    public OtlpGrpcSpanExporter otlpHttpSpanExporter() {\\n        return OtlpGrpcSpanExporter.builder()\\n                .setEndpoint(otlpGrpcUri)\\n                .build();\\n    }\\n\\n}\\n', path=None, url=None, mimetype=None), image_resource=None, audio_resource=None, video_resource=None, text_template='{metadata_str}\\n\\n{content}'),\n",
       " Document(id_='5cb163126b235e682d558dda01d492a84252fe8d', embedding=None, metadata={'file_path': 'api-gateway/src/main/java/api/gateway/com/controller/FoodController.java', 'file_name': 'FoodController.java', 'url': 'https://api.github.com/cruderra/food-delivery-demo/blob/main/api-gateway/src/main/java/api/gateway/com/controller/FoodController.java'}, excluded_embed_metadata_keys=[], excluded_llm_metadata_keys=[], relationships={}, metadata_template='{key}: {value}', metadata_separator='\\n', text_resource=MediaResource(embeddings=None, data=None, text='package api.gateway.com.controller;\\n\\nimport api.gateway.com.service.FoodService;\\nimport lombok.RequiredArgsConstructor;\\nimport lombok.extern.slf4j.Slf4j;\\nimport org.springframework.web.bind.annotation.*;\\n\\nimport java.util.UUID;\\n\\n@RequestMapping(\"/food\")\\n@RestController\\n@Slf4j\\n@RequiredArgsConstructor\\npublic class FoodController {\\n\\n    private final FoodService foodService;\\n\\n    @GetMapping(value = \"/order/{orderId}\")\\n    public void get(@PathVariable(value = \"orderId\") UUID orderId) {\\n    }\\n\\n    @PostMapping(value = \"/order\")\\n    public void create(@RequestBody String body) {\\n        foodService.create(body);\\n    }\\n\\n    @PutMapping(value = \"/order/{orderId}\")\\n    public void update(@PathVariable(value = \"orderId\") UUID orderId,\\n                       @RequestBody String body) {\\n    }\\n\\n    @DeleteMapping(value = \"/order/{orderId}\")\\n    public void remove(@PathVariable(value = \"orderId\") UUID orderId) {\\n    }\\n}\\n', path=None, url=None, mimetype=None), image_resource=None, audio_resource=None, video_resource=None, text_template='{metadata_str}\\n\\n{content}'),\n",
       " Document(id_='49f5da84d3009f363a7b39b6f6d00e0fcd9cc257', embedding=None, metadata={'file_path': 'api-gateway/src/main/java/api/gateway/com/listener/FoodKafkaConsumer.java', 'file_name': 'FoodKafkaConsumer.java', 'url': 'https://api.github.com/cruderra/food-delivery-demo/blob/main/api-gateway/src/main/java/api/gateway/com/listener/FoodKafkaConsumer.java'}, excluded_embed_metadata_keys=[], excluded_llm_metadata_keys=[], relationships={}, metadata_template='{key}: {value}', metadata_separator='\\n', text_resource=MediaResource(embeddings=None, data=None, text='package api.gateway.com.listener;\\n\\nimport com.fasterxml.jackson.databind.JsonNode;\\nimport org.springframework.kafka.annotation.KafkaListener;\\nimport org.springframework.messaging.handler.annotation.Payload;\\nimport org.springframework.stereotype.Service;\\n\\n@Service\\npublic class FoodKafkaConsumer {\\n\\n    @KafkaListener(topics = \"food-order-created\")\\n    public void orderCreated(@Payload JsonNode message) {\\n    }\\n\\n    @KafkaListener(topics = \"food-order-cancel\")\\n    public void orderCancel(@Payload JsonNode message) {\\n    }\\n}\\n', path=None, url=None, mimetype=None), image_resource=None, audio_resource=None, video_resource=None, text_template='{metadata_str}\\n\\n{content}'),\n",
       " Document(id_='32d30912d4f8375bc344a66e229aceb8d674b2fc', embedding=None, metadata={'file_path': 'api-gateway/src/main/java/api/gateway/com/repository/FoodEntity.java', 'file_name': 'FoodEntity.java', 'url': 'https://api.github.com/cruderra/food-delivery-demo/blob/main/api-gateway/src/main/java/api/gateway/com/repository/FoodEntity.java'}, excluded_embed_metadata_keys=[], excluded_llm_metadata_keys=[], relationships={}, metadata_template='{key}: {value}', metadata_separator='\\n', text_resource=MediaResource(embeddings=None, data=None, text='package api.gateway.com.repository;\\n\\nimport jakarta.persistence.*;\\nimport lombok.Getter;\\nimport lombok.Setter;\\n\\nimport java.util.UUID;\\n\\n@Entity\\n@Table(name = \"food\")\\n@Getter\\n@Setter\\npublic class FoodEntity {\\n\\n    @Id\\n    @GeneratedValue(strategy = GenerationType.UUID)\\n    private UUID id;\\n\\n    @Column(name = \"name\")\\n    private String name;\\n\\n    @Column(name = \"type\")\\n    private String type;\\n\\n}\\n', path=None, url=None, mimetype=None), image_resource=None, audio_resource=None, video_resource=None, text_template='{metadata_str}\\n\\n{content}'),\n",
       " Document(id_='7317289424961600389866b3d9ed650f65ff2ff7', embedding=None, metadata={'file_path': 'api-gateway/src/main/java/api/gateway/com/repository/FoodRepository.java', 'file_name': 'FoodRepository.java', 'url': 'https://api.github.com/cruderra/food-delivery-demo/blob/main/api-gateway/src/main/java/api/gateway/com/repository/FoodRepository.java'}, excluded_embed_metadata_keys=[], excluded_llm_metadata_keys=[], relationships={}, metadata_template='{key}: {value}', metadata_separator='\\n', text_resource=MediaResource(embeddings=None, data=None, text='package api.gateway.com.repository;\\n\\nimport org.springframework.data.jpa.repository.JpaRepository;\\nimport org.springframework.data.jpa.repository.Query;\\nimport org.springframework.data.repository.query.Param;\\nimport org.springframework.stereotype.Repository;\\n\\nimport java.util.List;\\nimport java.util.Optional;\\nimport java.util.UUID;\\n\\n@Repository\\npublic interface FoodRepository extends JpaRepository<FoodEntity, UUID> {\\n\\n    @Query(\"\"\"\\n            select u from FoodEntity u\\n            where u.type = :type\\n            \"\"\")\\n    Optional<FoodEntity> findByType(@Param(value = \"type\") String type);\\n\\n    List<FoodEntity> findAllByName(String name);\\n\\n}\\n', path=None, url=None, mimetype=None), image_resource=None, audio_resource=None, video_resource=None, text_template='{metadata_str}\\n\\n{content}'),\n",
       " Document(id_='97b602489888be8d287b516ee2ad8beb0ba1bf37', embedding=None, metadata={'file_path': 'api-gateway/src/main/java/api/gateway/com/service/FoodService.java', 'file_name': 'FoodService.java', 'url': 'https://api.github.com/cruderra/food-delivery-demo/blob/main/api-gateway/src/main/java/api/gateway/com/service/FoodService.java'}, excluded_embed_metadata_keys=[], excluded_llm_metadata_keys=[], relationships={}, metadata_template='{key}: {value}', metadata_separator='\\n', text_resource=MediaResource(embeddings=None, data=None, text='package api.gateway.com.service;\\n\\nimport lombok.RequiredArgsConstructor;\\nimport org.springframework.beans.factory.annotation.Value;\\nimport org.springframework.stereotype.Service;\\nimport org.springframework.web.client.RestTemplate;\\n\\n@Service\\n@RequiredArgsConstructor\\npublic class FoodService {\\n\\n    private final RestTemplate restTemplate;\\n\\n    @Value(\"${services.order.url}\")\\n    private String orderUrl;\\n\\n    @Value(\"${services.delivery.url}\")\\n    private String deliveryUrl;\\n\\n    public void create(String body) {\\n        restTemplate.postForEntity(orderUrl, body, String.class);\\n        restTemplate.postForEntity(deliveryUrl, body, String.class);\\n    }\\n\\n}\\n', path=None, url=None, mimetype=None), image_resource=None, audio_resource=None, video_resource=None, text_template='{metadata_str}\\n\\n{content}'),\n",
       " Document(id_='f0603230ac5cf52c09deb91c1f32f7ce7d7222a0', embedding=None, metadata={'file_path': 'api-gateway/src/test/java/api/gateway/com/ApiGatewayApplicationTests.java', 'file_name': 'ApiGatewayApplicationTests.java', 'url': 'https://api.github.com/cruderra/food-delivery-demo/blob/main/api-gateway/src/test/java/api/gateway/com/ApiGatewayApplicationTests.java'}, excluded_embed_metadata_keys=[], excluded_llm_metadata_keys=[], relationships={}, metadata_template='{key}: {value}', metadata_separator='\\n', text_resource=MediaResource(embeddings=None, data=None, text='package api.gateway.com;\\n\\nimport org.junit.jupiter.api.Test;\\nimport org.springframework.boot.test.context.SpringBootTest;\\n\\n@SpringBootTest\\nclass ApiGatewayApplicationTests {\\n\\n\\t@Test\\n\\tvoid contextLoads() {\\n\\t}\\n\\n}\\n', path=None, url=None, mimetype=None), image_resource=None, audio_resource=None, video_resource=None, text_template='{metadata_str}\\n\\n{content}'),\n",
       " Document(id_='298f5b3d3a23185130d4d07a87c55c0fb25a4448', embedding=None, metadata={'file_path': 'delivery/src/main/java/delivery/com/DeliveryApplication.java', 'file_name': 'DeliveryApplication.java', 'url': 'https://api.github.com/cruderra/food-delivery-demo/blob/main/delivery/src/main/java/delivery/com/DeliveryApplication.java'}, excluded_embed_metadata_keys=[], excluded_llm_metadata_keys=[], relationships={}, metadata_template='{key}: {value}', metadata_separator='\\n', text_resource=MediaResource(embeddings=None, data=None, text='package delivery.com;\\n\\nimport org.springframework.boot.SpringApplication;\\nimport org.springframework.boot.autoconfigure.SpringBootApplication;\\n\\n@SpringBootApplication\\npublic class DeliveryApplication {\\n\\n\\tpublic static void main(String[] args) {\\n\\t\\tSpringApplication.run(DeliveryApplication.class, args);\\n\\t}\\n\\n}\\n', path=None, url=None, mimetype=None), image_resource=None, audio_resource=None, video_resource=None, text_template='{metadata_str}\\n\\n{content}'),\n",
       " Document(id_='0df4f105feb77db0cc81e53509fece66dc0a0a04', embedding=None, metadata={'file_path': 'delivery/src/main/java/delivery/com/config/ClientConfig.java', 'file_name': 'ClientConfig.java', 'url': 'https://api.github.com/cruderra/food-delivery-demo/blob/main/delivery/src/main/java/delivery/com/config/ClientConfig.java'}, excluded_embed_metadata_keys=[], excluded_llm_metadata_keys=[], relationships={}, metadata_template='{key}: {value}', metadata_separator='\\n', text_resource=MediaResource(embeddings=None, data=None, text='package delivery.com.config;\\n\\nimport org.springframework.boot.web.client.RestTemplateBuilder;\\nimport org.springframework.context.annotation.Bean;\\nimport org.springframework.context.annotation.Configuration;\\nimport org.springframework.web.client.RestTemplate;\\n\\n@Configuration\\npublic class ClientConfig {\\n\\n    @Bean\\n    public RestTemplate getRestTemplate(RestTemplateBuilder builder) {\\n        return builder.build();\\n    }\\n\\n}\\n', path=None, url=None, mimetype=None), image_resource=None, audio_resource=None, video_resource=None, text_template='{metadata_str}\\n\\n{content}'),\n",
       " Document(id_='c43bf7f2a24b569fc0c89c990d505dbc56032c03', embedding=None, metadata={'file_path': 'delivery/src/main/java/delivery/com/config/OtlpConfig.java', 'file_name': 'OtlpConfig.java', 'url': 'https://api.github.com/cruderra/food-delivery-demo/blob/main/delivery/src/main/java/delivery/com/config/OtlpConfig.java'}, excluded_embed_metadata_keys=[], excluded_llm_metadata_keys=[], relationships={}, metadata_template='{key}: {value}', metadata_separator='\\n', text_resource=MediaResource(embeddings=None, data=None, text='package delivery.com.config;\\n\\nimport io.opentelemetry.exporter.otlp.trace.OtlpGrpcSpanExporter;\\nimport org.springframework.beans.factory.annotation.Value;\\nimport org.springframework.context.annotation.Bean;\\nimport org.springframework.context.annotation.Configuration;\\n\\n@Configuration\\npublic class OtlpConfig {\\n\\n    @Value(\"${otlp.grpc.uri}\")\\n    private String otlpGrpcUri;\\n\\n    @Bean\\n    public OtlpGrpcSpanExporter otlpHttpSpanExporter() {\\n        return OtlpGrpcSpanExporter.builder()\\n                .setEndpoint(otlpGrpcUri)\\n                .build();\\n    }\\n\\n}\\n', path=None, url=None, mimetype=None), image_resource=None, audio_resource=None, video_resource=None, text_template='{metadata_str}\\n\\n{content}'),\n",
       " Document(id_='9aaa9da964acf234186dbcc37b352eccde2e962d', embedding=None, metadata={'file_path': 'delivery/src/main/java/delivery/com/controller/DeliveryController.java', 'file_name': 'DeliveryController.java', 'url': 'https://api.github.com/cruderra/food-delivery-demo/blob/main/delivery/src/main/java/delivery/com/controller/DeliveryController.java'}, excluded_embed_metadata_keys=[], excluded_llm_metadata_keys=[], relationships={}, metadata_template='{key}: {value}', metadata_separator='\\n', text_resource=MediaResource(embeddings=None, data=None, text='package delivery.com.controller;\\n\\nimport delivery.com.service.DeliveryService;\\nimport lombok.RequiredArgsConstructor;\\nimport lombok.extern.slf4j.Slf4j;\\nimport org.springframework.web.bind.annotation.PostMapping;\\nimport org.springframework.web.bind.annotation.RequestBody;\\nimport org.springframework.web.bind.annotation.RequestMapping;\\nimport org.springframework.web.bind.annotation.RestController;\\n\\n@RequestMapping\\n@RestController\\n@Slf4j\\n@RequiredArgsConstructor\\npublic class DeliveryController {\\n\\n    private final DeliveryService deliveryService;\\n\\n    @PostMapping\\n    public void create(@RequestBody String body) {\\n        deliveryService.create(body);\\n    }\\n\\n}\\n', path=None, url=None, mimetype=None), image_resource=None, audio_resource=None, video_resource=None, text_template='{metadata_str}\\n\\n{content}'),\n",
       " Document(id_='34c4bf1603c150f7417b4c3aa5355a2d93e08fe9', embedding=None, metadata={'file_path': 'delivery/src/main/java/delivery/com/service/DeliveryService.java', 'file_name': 'DeliveryService.java', 'url': 'https://api.github.com/cruderra/food-delivery-demo/blob/main/delivery/src/main/java/delivery/com/service/DeliveryService.java'}, excluded_embed_metadata_keys=[], excluded_llm_metadata_keys=[], relationships={}, metadata_template='{key}: {value}', metadata_separator='\\n', text_resource=MediaResource(embeddings=None, data=None, text='package delivery.com.service;\\n\\nimport lombok.RequiredArgsConstructor;\\nimport org.springframework.stereotype.Service;\\n\\n@Service\\n@RequiredArgsConstructor\\npublic class DeliveryService {\\n\\n    public void create(String body) {\\n    }\\n\\n}\\n', path=None, url=None, mimetype=None), image_resource=None, audio_resource=None, video_resource=None, text_template='{metadata_str}\\n\\n{content}'),\n",
       " Document(id_='38b0efa935ecdbcfd7dbdb332d5d32f43874cac7', embedding=None, metadata={'file_path': 'delivery/src/test/java/delivery/com/DeliveryApplicationTests.java', 'file_name': 'DeliveryApplicationTests.java', 'url': 'https://api.github.com/cruderra/food-delivery-demo/blob/main/delivery/src/test/java/delivery/com/DeliveryApplicationTests.java'}, excluded_embed_metadata_keys=[], excluded_llm_metadata_keys=[], relationships={}, metadata_template='{key}: {value}', metadata_separator='\\n', text_resource=MediaResource(embeddings=None, data=None, text='package delivery.com;\\n\\nimport org.junit.jupiter.api.Test;\\nimport org.springframework.boot.test.context.SpringBootTest;\\n\\n@SpringBootTest\\nclass DeliveryApplicationTests {\\n\\n\\t@Test\\n\\tvoid contextLoads() {\\n\\t}\\n\\n}\\n', path=None, url=None, mimetype=None), image_resource=None, audio_resource=None, video_resource=None, text_template='{metadata_str}\\n\\n{content}'),\n",
       " Document(id_='08f12f025c639b765900f4ff975a7f84faeea71a', embedding=None, metadata={'file_path': 'order/src/main/java/order/com/OrderApplication.java', 'file_name': 'OrderApplication.java', 'url': 'https://api.github.com/cruderra/food-delivery-demo/blob/main/order/src/main/java/order/com/OrderApplication.java'}, excluded_embed_metadata_keys=[], excluded_llm_metadata_keys=[], relationships={}, metadata_template='{key}: {value}', metadata_separator='\\n', text_resource=MediaResource(embeddings=None, data=None, text='package order.com;\\n\\nimport org.springframework.boot.SpringApplication;\\nimport org.springframework.boot.autoconfigure.SpringBootApplication;\\n\\n@SpringBootApplication\\npublic class OrderApplication {\\n\\n    public static void main(String[] args) {\\n        SpringApplication.run(OrderApplication.class, args);\\n    }\\n\\n}\\n', path=None, url=None, mimetype=None), image_resource=None, audio_resource=None, video_resource=None, text_template='{metadata_str}\\n\\n{content}'),\n",
       " Document(id_='3d5981371ad973ae2de0713f363782bbc027e9a8', embedding=None, metadata={'file_path': 'order/src/main/java/order/com/config/ClientConfig.java', 'file_name': 'ClientConfig.java', 'url': 'https://api.github.com/cruderra/food-delivery-demo/blob/main/order/src/main/java/order/com/config/ClientConfig.java'}, excluded_embed_metadata_keys=[], excluded_llm_metadata_keys=[], relationships={}, metadata_template='{key}: {value}', metadata_separator='\\n', text_resource=MediaResource(embeddings=None, data=None, text='package order.com.config;\\n\\nimport org.springframework.boot.web.client.RestTemplateBuilder;\\nimport org.springframework.context.annotation.Bean;\\nimport org.springframework.context.annotation.Configuration;\\nimport org.springframework.web.client.RestTemplate;\\n\\n@Configuration\\npublic class ClientConfig {\\n\\n    @Bean\\n    public RestTemplate getRestTemplate(RestTemplateBuilder builder) {\\n        return builder.build();\\n    }\\n\\n}\\n', path=None, url=None, mimetype=None), image_resource=None, audio_resource=None, video_resource=None, text_template='{metadata_str}\\n\\n{content}'),\n",
       " Document(id_='69416d95548dbb9001d4ab34fc91e986c33fb12d', embedding=None, metadata={'file_path': 'order/src/main/java/order/com/config/OtlpConfig.java', 'file_name': 'OtlpConfig.java', 'url': 'https://api.github.com/cruderra/food-delivery-demo/blob/main/order/src/main/java/order/com/config/OtlpConfig.java'}, excluded_embed_metadata_keys=[], excluded_llm_metadata_keys=[], relationships={}, metadata_template='{key}: {value}', metadata_separator='\\n', text_resource=MediaResource(embeddings=None, data=None, text='package order.com.config;\\n\\nimport io.opentelemetry.exporter.otlp.trace.OtlpGrpcSpanExporter;\\nimport org.springframework.beans.factory.annotation.Value;\\nimport org.springframework.context.annotation.Bean;\\nimport org.springframework.context.annotation.Configuration;\\n\\n@Configuration\\npublic class OtlpConfig {\\n\\n    @Value(\"${otlp.grpc.uri}\")\\n    private String otlpGrpcUri;\\n\\n    @Bean\\n    public OtlpGrpcSpanExporter otlpHttpSpanExporter() {\\n        return OtlpGrpcSpanExporter.builder()\\n                .setEndpoint(otlpGrpcUri)\\n                .build();\\n    }\\n\\n}\\n', path=None, url=None, mimetype=None), image_resource=None, audio_resource=None, video_resource=None, text_template='{metadata_str}\\n\\n{content}'),\n",
       " Document(id_='8d2598c6cf3de9689bd2701a868f35d0cb6ed0ea', embedding=None, metadata={'file_path': 'order/src/main/java/order/com/controller/OrderController.java', 'file_name': 'OrderController.java', 'url': 'https://api.github.com/cruderra/food-delivery-demo/blob/main/order/src/main/java/order/com/controller/OrderController.java'}, excluded_embed_metadata_keys=[], excluded_llm_metadata_keys=[], relationships={}, metadata_template='{key}: {value}', metadata_separator='\\n', text_resource=MediaResource(embeddings=None, data=None, text='package order.com.controller;\\n\\nimport lombok.RequiredArgsConstructor;\\nimport lombok.extern.slf4j.Slf4j;\\nimport order.com.service.OrderService;\\nimport org.springframework.web.bind.annotation.PostMapping;\\nimport org.springframework.web.bind.annotation.RequestBody;\\nimport org.springframework.web.bind.annotation.RequestMapping;\\nimport org.springframework.web.bind.annotation.RestController;\\n\\n@RequestMapping\\n@RestController\\n@Slf4j\\n@RequiredArgsConstructor\\npublic class OrderController {\\n\\n    private final OrderService orderService;\\n\\n    @PostMapping\\n    public void create(@RequestBody String body) {\\n        orderService.create(body);\\n    }\\n\\n}\\n', path=None, url=None, mimetype=None), image_resource=None, audio_resource=None, video_resource=None, text_template='{metadata_str}\\n\\n{content}'),\n",
       " Document(id_='c1b5a4062a14607335ae0e8f5bedf3c6b8b6f530', embedding=None, metadata={'file_path': 'order/src/main/java/order/com/service/OrderService.java', 'file_name': 'OrderService.java', 'url': 'https://api.github.com/cruderra/food-delivery-demo/blob/main/order/src/main/java/order/com/service/OrderService.java'}, excluded_embed_metadata_keys=[], excluded_llm_metadata_keys=[], relationships={}, metadata_template='{key}: {value}', metadata_separator='\\n', text_resource=MediaResource(embeddings=None, data=None, text='package order.com.service;\\n\\nimport lombok.RequiredArgsConstructor;\\nimport org.springframework.beans.factory.annotation.Value;\\nimport org.springframework.stereotype.Service;\\nimport org.springframework.web.client.RestTemplate;\\n\\n@Service\\n@RequiredArgsConstructor\\npublic class OrderService {\\n\\n    private final RestTemplate restTemplate;\\n\\n    @Value(\"${services.payment.url}\")\\n    private String paymentUrl;\\n\\n    public void create(String body) {\\n        restTemplate.postForEntity(paymentUrl, body, String.class);\\n    }\\n\\n}\\n', path=None, url=None, mimetype=None), image_resource=None, audio_resource=None, video_resource=None, text_template='{metadata_str}\\n\\n{content}'),\n",
       " Document(id_='a105ab6f40d0eb357267cdfaebdae76a78563882', embedding=None, metadata={'file_path': 'order/src/test/java/order/com/OrderApplicationTests.java', 'file_name': 'OrderApplicationTests.java', 'url': 'https://api.github.com/cruderra/food-delivery-demo/blob/main/order/src/test/java/order/com/OrderApplicationTests.java'}, excluded_embed_metadata_keys=[], excluded_llm_metadata_keys=[], relationships={}, metadata_template='{key}: {value}', metadata_separator='\\n', text_resource=MediaResource(embeddings=None, data=None, text='package order.com;\\n\\nimport org.junit.jupiter.api.Test;\\nimport org.springframework.boot.test.context.SpringBootTest;\\n\\n@SpringBootTest\\nclass OrderApplicationTests {\\n\\n    @Test\\n    void contextLoads() {\\n    }\\n\\n}\\n', path=None, url=None, mimetype=None), image_resource=None, audio_resource=None, video_resource=None, text_template='{metadata_str}\\n\\n{content}'),\n",
       " Document(id_='57b598f80b871f1d0041f7dde71965d676ff5bc9', embedding=None, metadata={'file_path': 'payment/src/main/java/payment/com/PaymentApplication.java', 'file_name': 'PaymentApplication.java', 'url': 'https://api.github.com/cruderra/food-delivery-demo/blob/main/payment/src/main/java/payment/com/PaymentApplication.java'}, excluded_embed_metadata_keys=[], excluded_llm_metadata_keys=[], relationships={}, metadata_template='{key}: {value}', metadata_separator='\\n', text_resource=MediaResource(embeddings=None, data=None, text='package payment.com;\\n\\nimport org.springframework.boot.SpringApplication;\\nimport org.springframework.boot.autoconfigure.SpringBootApplication;\\n\\n@SpringBootApplication\\npublic class PaymentApplication {\\n\\n    public static void main(String[] args) {\\n        SpringApplication.run(PaymentApplication.class, args);\\n    }\\n\\n}\\n', path=None, url=None, mimetype=None), image_resource=None, audio_resource=None, video_resource=None, text_template='{metadata_str}\\n\\n{content}'),\n",
       " Document(id_='c3fa83e9bf6688ad33b150ec69abe960e48a592f', embedding=None, metadata={'file_path': 'payment/src/main/java/payment/com/config/ClientConfig.java', 'file_name': 'ClientConfig.java', 'url': 'https://api.github.com/cruderra/food-delivery-demo/blob/main/payment/src/main/java/payment/com/config/ClientConfig.java'}, excluded_embed_metadata_keys=[], excluded_llm_metadata_keys=[], relationships={}, metadata_template='{key}: {value}', metadata_separator='\\n', text_resource=MediaResource(embeddings=None, data=None, text='package payment.com.config;\\n\\nimport org.springframework.boot.web.client.RestTemplateBuilder;\\nimport org.springframework.context.annotation.Bean;\\nimport org.springframework.context.annotation.Configuration;\\nimport org.springframework.web.client.RestTemplate;\\n\\n@Configuration\\npublic class ClientConfig {\\n\\n    @Bean\\n    public RestTemplate getRestTemplate(RestTemplateBuilder builder) {\\n        return builder.build();\\n    }\\n\\n}\\n', path=None, url=None, mimetype=None), image_resource=None, audio_resource=None, video_resource=None, text_template='{metadata_str}\\n\\n{content}'),\n",
       " Document(id_='5c3d417349dc9ec86fce88ec97938fd88ea50342', embedding=None, metadata={'file_path': 'payment/src/main/java/payment/com/config/OtlpConfig.java', 'file_name': 'OtlpConfig.java', 'url': 'https://api.github.com/cruderra/food-delivery-demo/blob/main/payment/src/main/java/payment/com/config/OtlpConfig.java'}, excluded_embed_metadata_keys=[], excluded_llm_metadata_keys=[], relationships={}, metadata_template='{key}: {value}', metadata_separator='\\n', text_resource=MediaResource(embeddings=None, data=None, text='package payment.com.config;\\n\\nimport io.opentelemetry.exporter.otlp.trace.OtlpGrpcSpanExporter;\\nimport org.springframework.beans.factory.annotation.Value;\\nimport org.springframework.context.annotation.Bean;\\nimport org.springframework.context.annotation.Configuration;\\n\\n@Configuration\\npublic class OtlpConfig {\\n\\n    @Value(\"${otlp.grpc.uri}\")\\n    private String otlpGrpcUri;\\n\\n    @Bean\\n    public OtlpGrpcSpanExporter otlpHttpSpanExporter() {\\n        return OtlpGrpcSpanExporter.builder()\\n                .setEndpoint(otlpGrpcUri)\\n                .build();\\n    }\\n\\n}\\n', path=None, url=None, mimetype=None), image_resource=None, audio_resource=None, video_resource=None, text_template='{metadata_str}\\n\\n{content}'),\n",
       " Document(id_='82e61e2070fe8d3207e46fcdd3858e08bde5d8b7', embedding=None, metadata={'file_path': 'payment/src/main/java/payment/com/controller/PaymentController.java', 'file_name': 'PaymentController.java', 'url': 'https://api.github.com/cruderra/food-delivery-demo/blob/main/payment/src/main/java/payment/com/controller/PaymentController.java'}, excluded_embed_metadata_keys=[], excluded_llm_metadata_keys=[], relationships={}, metadata_template='{key}: {value}', metadata_separator='\\n', text_resource=MediaResource(embeddings=None, data=None, text='package payment.com.controller;\\n\\nimport lombok.RequiredArgsConstructor;\\nimport lombok.extern.slf4j.Slf4j;\\nimport org.springframework.web.bind.annotation.PostMapping;\\nimport org.springframework.web.bind.annotation.RequestBody;\\nimport org.springframework.web.bind.annotation.RequestMapping;\\nimport org.springframework.web.bind.annotation.RestController;\\nimport payment.com.service.PaymentService;\\n\\n@RequestMapping\\n@RestController\\n@Slf4j\\n@RequiredArgsConstructor\\npublic class PaymentController {\\n\\n    private final PaymentService paymentService;\\n\\n    @PostMapping\\n    public void create(@RequestBody String body) {\\n        paymentService.create(body);\\n    }\\n\\n}\\n', path=None, url=None, mimetype=None), image_resource=None, audio_resource=None, video_resource=None, text_template='{metadata_str}\\n\\n{content}'),\n",
       " Document(id_='0586b267aaeee78157d6c7eeb43ab70289d96fa1', embedding=None, metadata={'file_path': 'payment/src/main/java/payment/com/service/PaymentService.java', 'file_name': 'PaymentService.java', 'url': 'https://api.github.com/cruderra/food-delivery-demo/blob/main/payment/src/main/java/payment/com/service/PaymentService.java'}, excluded_embed_metadata_keys=[], excluded_llm_metadata_keys=[], relationships={}, metadata_template='{key}: {value}', metadata_separator='\\n', text_resource=MediaResource(embeddings=None, data=None, text='package payment.com.service;\\n\\nimport lombok.RequiredArgsConstructor;\\nimport org.springframework.beans.factory.annotation.Value;\\nimport org.springframework.stereotype.Service;\\nimport org.springframework.web.client.RestTemplate;\\n\\n@Service\\n@RequiredArgsConstructor\\npublic class PaymentService {\\n\\n    private final RestTemplate restTemplate;\\n\\n    @Value(\"${acquiring.url}\")\\n    private String acquiringUrl;\\n\\n    public void create(String body) {\\n        restTemplate.getForEntity(acquiringUrl, String.class);\\n\\n    }\\n\\n}\\n', path=None, url=None, mimetype=None), image_resource=None, audio_resource=None, video_resource=None, text_template='{metadata_str}\\n\\n{content}'),\n",
       " Document(id_='a5df30478cdc0108ed70830c83b570b537099110', embedding=None, metadata={'file_path': 'payment/src/test/java/payment/com/PaymentApplicationTests.java', 'file_name': 'PaymentApplicationTests.java', 'url': 'https://api.github.com/cruderra/food-delivery-demo/blob/main/payment/src/test/java/payment/com/PaymentApplicationTests.java'}, excluded_embed_metadata_keys=[], excluded_llm_metadata_keys=[], relationships={}, metadata_template='{key}: {value}', metadata_separator='\\n', text_resource=MediaResource(embeddings=None, data=None, text='package payment.com;\\n\\nimport org.junit.jupiter.api.Test;\\nimport org.springframework.boot.test.context.SpringBootTest;\\n\\n@SpringBootTest\\nclass PaymentApplicationTests {\\n\\n    @Test\\n    void contextLoads() {\\n    }\\n\\n}\\n', path=None, url=None, mimetype=None), image_resource=None, audio_resource=None, video_resource=None, text_template='{metadata_str}\\n\\n{content}')]"
      ]
     },
     "execution_count": 5,
     "metadata": {},
     "output_type": "execute_result"
    }
   ],
   "source": [
    "from llama_index.readers.github import GithubClient, GithubRepositoryReader\n",
    "\n",
    "\n",
    "github_client = GithubClient(github_token=\"TOKEN\")\n",
    "\n",
    "# Any repo works, though it was tested on Java code explicitly\n",
    "OWNER = \"cruderra\"\n",
    "REPO = \"food-delivery-demo\"\n",
    "BRANCH = \"main\"\n",
    "\n",
    "reader = GithubRepositoryReader(\n",
    "    github_client=github_client,\n",
    "    owner=OWNER,\n",
    "    repo=REPO,\n",
    "    filter_file_extensions=(\n",
    "        \".java\",\n",
    "        GithubRepositoryReader.FilterType.INCLUDE,\n",
    "    ),\n",
    ")\n",
    "\n",
    "documents = reader.load_data(branch=BRANCH)\n",
    "documents = list(\n",
    "    filter(\n",
    "        lambda d: d.metadata[\"file_name\"].endswith(\".java\"),\n",
    "        documents,\n",
    "    )\n",
    ")\n",
    "documents"
   ]
  },
  {
   "cell_type": "markdown",
   "metadata": {},
   "source": [
    "## Creating the graph"
   ]
  },
  {
   "cell_type": "code",
   "execution_count": 6,
   "metadata": {},
   "outputs": [
    {
     "data": {
      "text/plain": [
       "<Experiment: artifact_location='mlflow-artifacts:/319831797427190372', creation_time=1738855480692, experiment_id='319831797427190372', last_update_time=1738855480692, lifecycle_stage='active', name='codescan w/ codesplitter', tags={}>"
      ]
     },
     "execution_count": 6,
     "metadata": {},
     "output_type": "execute_result"
    }
   ],
   "source": [
    "mlflow.set_experiment(\"codescan w/ codesplitter\")"
   ]
  },
  {
   "cell_type": "code",
   "execution_count": 7,
   "metadata": {},
   "outputs": [
    {
     "name": "stderr",
     "output_type": "stream",
     "text": [
      "/home/sv-cheats-1/Documents/Work/Cruderra/ml-experiments/.venv/lib/python3.11/site-packages/tree_sitter/__init__.py:36: FutureWarning: Language(path, name) is deprecated. Use Language(ptr, name) instead.\n",
      "  warn(\"{} is deprecated. Use {} instead.\".format(old, new), FutureWarning)\n",
      "BertSdpaSelfAttention is used but `torch.nn.functional.scaled_dot_product_attention` does not support non-absolute `position_embedding_type` or `output_attentions=True` or `head_mask`. Falling back to the manual attention implementation, but specifying the manual implementation will be required from Transformers version v5.0.0 onwards. This warning can be removed using the argument `attn_implementation=\"eager\"` when loading the model.\n"
     ]
    },
    {
     "name": "stdout",
     "output_type": "stream",
     "text": [
      "🏃 View run persistent-pig-764 at: http://localhost:5000/#/experiments/319831797427190372/runs/3b9ab24108da44288776cfdb6cf8e30b\n",
      "🧪 View experiment at: http://localhost:5000/#/experiments/319831797427190372\n"
     ]
    },
    {
     "data": {
      "text/html": [
       "\n",
       "<div>\n",
       "  <style scoped>\n",
       "  button {\n",
       "    border: none;\n",
       "    border-radius: 4px;\n",
       "    background-color: rgb(34, 114, 180);\n",
       "    font-family: -apple-system, \"system-ui\", \"Segoe UI\", Roboto, \"Helvetica Neue\", Arial;\n",
       "    font-size: 13px;\n",
       "    color: white;\n",
       "    margin-top: 8px;\n",
       "    margin-bottom: 8px;\n",
       "    padding: 8px 16px;\n",
       "    cursor: pointer;\n",
       "  }\n",
       "  button:hover {\n",
       "    background-color: rgb(66, 153, 224);\n",
       "  }\n",
       "  </style>\n",
       "  <button\n",
       "    onclick=\"\n",
       "        const display = this.nextElementSibling.style.display;\n",
       "        const isCollapsed = display === 'none';\n",
       "        this.nextElementSibling.style.display = isCollapsed ? null : 'none';\n",
       "\n",
       "        const verb = isCollapsed ? 'Collapse' : 'Expand';\n",
       "        this.innerText = `${verb} MLflow Trace`;\n",
       "    \"\n",
       "  >Collapse MLflow Trace</button>\n",
       "  <iframe\n",
       "    id=\"trace-renderer\"\n",
       "    style=\"width: 100%; height: 500px; border: none; resize: vertical;\"\n",
       "    src=\"http://localhost:5000/static-files/lib/notebook-trace-renderer/index.html?trace_id=97f0207c62f1491da55fd316b6feb0e2&amp;experiment_id=319831797427190372&amp;trace_id=bc0034f285f44a59817f2c4d7328366d&amp;experiment_id=319831797427190372&amp;trace_id=eae748f79164444588922ee2d0737589&amp;experiment_id=319831797427190372&amp;trace_id=e0331b0a37644aa0a9ef53c3b22c2345&amp;experiment_id=319831797427190372&amp;trace_id=5adebf98fd0b485caa8f3c8635e11154&amp;experiment_id=319831797427190372&amp;version=2.20.1\"\n",
       "  />\n",
       "</div>\n"
      ],
      "text/plain": [
       "[Trace(request_id=97f0207c62f1491da55fd316b6feb0e2), Trace(request_id=bc0034f285f44a59817f2c4d7328366d), Trace(request_id=eae748f79164444588922ee2d0737589), Trace(request_id=e0331b0a37644aa0a9ef53c3b22c2345), Trace(request_id=5adebf98fd0b485caa8f3c8635e11154)]"
      ]
     },
     "metadata": {},
     "output_type": "display_data"
    }
   ],
   "source": [
    "from llama_index.core import PropertyGraphIndex\n",
    "from llama_index.core.node_parser import CodeSplitter\n",
    "# from llama_index.core.indices.property_graph import SchemaLLMPathExtractor\n",
    "\n",
    "\n",
    "with mlflow.start_run():\n",
    "    index = PropertyGraphIndex.from_documents(\n",
    "        documents,\n",
    "        transformations=[CodeSplitter(\"java\")],\n",
    "        use_async=True,\n",
    "        # show_progress=True,\n",
    "    )"
   ]
  },
  {
   "cell_type": "code",
   "execution_count": 8,
   "metadata": {},
   "outputs": [
    {
     "data": {
      "application/vnd.jupyter.widget-view+json": {
       "model_id": "61e30965461f4cf2a323857824fcfbbf",
       "version_major": 2,
       "version_minor": 0
      },
      "text/plain": [
       "GraphWidget(layout=Layout(height='800px', width='100%'))"
      ]
     },
     "metadata": {},
     "output_type": "display_data"
    }
   ],
   "source": [
    "index.property_graph_store.show_jupyter_graph()"
   ]
  },
  {
   "cell_type": "code",
   "execution_count": 9,
   "metadata": {},
   "outputs": [],
   "source": [
    "index.storage_context.persist('./graph')"
   ]
  },
  {
   "cell_type": "markdown",
   "metadata": {},
   "source": [
    "## Testing"
   ]
  },
  {
   "cell_type": "markdown",
   "metadata": {},
   "source": [
    "### Load index from storage"
   ]
  },
  {
   "cell_type": "code",
   "execution_count": 7,
   "metadata": {},
   "outputs": [],
   "source": [
    "from llama_index.core import StorageContext, load_index_from_storage\n",
    "\n",
    "storage_context = StorageContext.from_defaults(persist_dir=\"./graph\")\n",
    "index = load_index_from_storage(storage_context)"
   ]
  },
  {
   "cell_type": "code",
   "execution_count": 9,
   "metadata": {},
   "outputs": [],
   "source": [
    "from llama_index.core.chat_engine.types import ChatMode\n",
    "\n",
    "chat_engine = index.as_chat_engine(chat_mode=ChatMode.CONTEXT)"
   ]
  },
  {
   "cell_type": "code",
   "execution_count": 10,
   "metadata": {},
   "outputs": [
    {
     "name": "stderr",
     "output_type": "stream",
     "text": [
      "2025/02/17 15:06:31 WARNING mlflow.tracing.processor.mlflow: Creating a trace within the default experiment with id '0'. It is strongly recommended to not use the default experiment to log traces due to ambiguous search results and probable performance issues over time due to directory table listing performance degradation with high volumes of directories within a specific path. To avoid performance and disambiguation issues, set the experiment for your environment using `mlflow.set_experiment()` API.\n"
     ]
    },
    {
     "name": "stderr",
     "output_type": "stream",
     "text": [
      "2025/02/17 15:10:37 WARNING mlflow.tracking.client: Failed to start trace ContextChatEngine.chat: API request to http://localhost:5000/api/2.0/mlflow/traces failed with exception HTTPConnectionPool(host='localhost', port=5000): Max retries exceeded with url: /api/2.0/mlflow/traces (Caused by NewConnectionError('<urllib3.connection.HTTPConnection object at 0x7a4f144eb850>: Failed to establish a new connection: [Errno 111] Connection refused')). For full traceback, set logging level to debug.\n",
      "BertSdpaSelfAttention is used but `torch.nn.functional.scaled_dot_product_attention` does not support non-absolute `position_embedding_type` or `output_attentions=True` or `head_mask`. Falling back to the manual attention implementation, but specifying the manual implementation will be required from Transformers version v5.0.0 onwards. This warning can be removed using the argument `attn_implementation=\"eager\"` when loading the model.\n"
     ]
    }
   ],
   "source": [
    "response = chat_engine.chat(\"Write a technical design document for the code. Do not go into too much detail, just the high-level overview. Define flows, what modules exist and how they interact with eachother. \")"
   ]
  },
  {
   "cell_type": "code",
   "execution_count": 16,
   "metadata": {},
   "outputs": [
    {
     "name": "stdout",
     "output_type": "stream",
     "text": [
      "<think>\n",
      "Alright, so I need to write a technical design document based on the provided code snippets. Let me start by understanding what's given.\n",
      "\n",
      "First, there are several Java files from different packages: OrderApplicationTests.java, OrderService.java, DeliveryController.java, DeliveryService.java, and FoodService.java. The context mentions that these are part of an order management system with API endpoints for food delivery.\n",
      "\n",
      "Looking at the test file, it's a JUnit test case in the OrderApplicationTests class. It has a @Test method called contextLoads() which seems to be where setup happens for testing contexts, probably using Spring Boot annotations like @BeforeEach and @AfterEachContext.\n",
      "\n",
      "Next, OrderService.java shows that it's an @Service with @RequiredArgsConstructor, meaning it uses Lombok for constructor injection. The service creates orders by making POST requests to a URL stored in the @Value annotation.\n",
      "\n",
      "Then there's DeliveryController.java, which uses Spring annotations like @RestController and @PostMapping. It injects DeliveryService as a binding and maps the create method to an endpoint \"/delivery\". The controller takes a String body parameter and passes it to the service.\n",
      "\n",
      "Moving on to DeliveryService.java, this class has a create method that accepts a String body without any parameters beyond what's injected. It seems straightforward but might be called by the DeliveryController.\n",
      "\n",
      "Lastly, FoodService.java uses RestTemplate annotations like @RestTemplate to handle creating orders via POST requests to both order and delivery URLs. The service is also annotated with @RequiredArgsConstructor for Lombok injection.\n",
      "\n",
      "Putting it all together:\n",
      "\n",
      "1. **Order Management Layer**: This includes OrderService which handles creating orders by making HTTP POST requests to a specific endpoint. It's probably responsible for the core business logic of processing orders.\n",
      "\n",
      "2. **Delivery Controller**: This layer interacts with DeliveryService, which is likely where the actual delivery data and operations are handled. The controller uses Spring annotations to map its create method to an API endpoint.\n",
      "\n",
      "3. **Food Gateway Service**: Using RestTemplate, this service handles creating orders by making POST requests to both order and delivery endpoints. It's part of the food gateway layer, integrating with other systems like OrderService and DeliveryService.\n",
      "\n",
      "**Interactions**:\n",
      "- The Food Gateway Service interacts with OrderService and DeliveryService by calling their create methods after processing the incoming request.\n",
      "- The DeliveryController injects DeliveryService and uses it to handle order creation specifically for deliveries.\n",
      "- The OrderService is used both directly (by FoodService) and through its injected bindings.\n",
      "\n",
      "Potential issues or considerations might include handling different types of orders, ensuring data consistency between layers, and managing API endpoints correctly. Also, testing would be crucial to ensure that each service layer works as expected when called from different contexts like the food gateway versus direct order processing.\n",
      "</think>\n",
      "\n",
      "**Technical Design Document**\n",
      "\n",
      "**1. Overview**\n",
      "This system is designed for a food delivery platform with three main layers: Order Management, Delivery Controller, and Food Gateway Service.\n",
      "\n",
      "**2. Modules**\n",
      "\n",
      "- **Order Management Layer (OrderService.java)**\n",
      "  - Implements core order creation functionality by making HTTP POST requests.\n",
      "  - Uses Lombok's @RequiredArgsConstructor for constructor injection to handle parameters like payment URLs.\n",
      "  - Stores orders via REST API calls mapped to endpoints such as /delivery.\n",
      "\n",
      "- **Delivery Controller (DeliveryController.java)**\n",
      "  - Acts as the entry point for delivering food through RESTful web services.\n",
      "  - Injects DeliveryService for order creation and maps its create method to an endpoint (/delivery).\n",
      "  - Consumes JSON request bodies formatted with delivery details like driver name, route, etc.\n",
      "\n",
      "- **Food Gateway Service (FoodService.java)**\n",
      "  - Integrates with external systems via RESTTemplate annotations.\n",
      "  - Makes API calls to both OrderService and DeliveryService endpoints when processing orders from the food gateway layer.\n",
      "  - Handles creation of orders by invoking these services with request bodies containing necessary data like order ID, user ID, etc.\n",
      "\n",
      "**3. End-to-End Flow**\n",
      "\n",
      "1. **Order Creation via Food Gateway Service**\n",
      "   - Receives a JSON body containing order details (user_id, order_id).\n",
      "   - Uses RestTemplate to make POST requests to both OrderService and DeliveryService endpoints with the provided request body.\n",
      "   - Exports a food delivery ticket by combining the received JSON data with additional information from the services.\n",
      "\n",
      "2. **Order Creation via Direct Route**\n",
      "   - Order Service receives a request for creating an order, typically through its REST API endpoint (/delivery).\n",
      "   - Makes POST requests to both OrderService and DeliveryService endpoints using RestTemplate.\n",
      "   - Returns an order ticket containing structured data like order ID, user ID, etc.\n",
      "\n",
      "**4. Interactions Between Modules**\n",
      "\n",
      "- **Order Management Layer (OrderService)**\n",
      "  - Used directly by Food Gateway Service via RESTTemplate annotations for order creation.\n",
      "  - Also injected into other services where needed.\n",
      "\n",
      "- **Delivery Controller**\n",
      "  - Injects DeliveryService and maps its create method to an endpoint.\n",
      "  - Consumes JSON request bodies formatted with specific delivery details, passed as parameters in request body format.\n",
      "\n",
      "**5. Challenges**\n",
      "\n",
      "- Ensuring data consistency between layers\n",
      "- Correct handling of different types of orders (e.g., food delivery vs direct)\n",
      "- Efficient management of API endpoints for order and delivery services\n"
     ]
    }
   ],
   "source": [
    "print(response.response)"
   ]
  },
  {
   "cell_type": "code",
   "execution_count": 17,
   "metadata": {},
   "outputs": [
    {
     "data": {
      "text/markdown": [
       "<think>\n",
       "Alright, so I need to write a technical design document based on the provided code snippets. Let me start by understanding what's given.\n",
       "\n",
       "First, there are several Java files from different packages: OrderApplicationTests.java, OrderService.java, DeliveryController.java, DeliveryService.java, and FoodService.java. The context mentions that these are part of an order management system with API endpoints for food delivery.\n",
       "\n",
       "Looking at the test file, it's a JUnit test case in the OrderApplicationTests class. It has a @Test method called contextLoads() which seems to be where setup happens for testing contexts, probably using Spring Boot annotations like @BeforeEach and @AfterEachContext.\n",
       "\n",
       "Next, OrderService.java shows that it's an @Service with @RequiredArgsConstructor, meaning it uses Lombok for constructor injection. The service creates orders by making POST requests to a URL stored in the @Value annotation.\n",
       "\n",
       "Then there's DeliveryController.java, which uses Spring annotations like @RestController and @PostMapping. It injects DeliveryService as a binding and maps the create method to an endpoint \"/delivery\". The controller takes a String body parameter and passes it to the service.\n",
       "\n",
       "Moving on to DeliveryService.java, this class has a create method that accepts a String body without any parameters beyond what's injected. It seems straightforward but might be called by the DeliveryController.\n",
       "\n",
       "Lastly, FoodService.java uses RestTemplate annotations like @RestTemplate to handle creating orders via POST requests to both order and delivery URLs. The service is also annotated with @RequiredArgsConstructor for Lombok injection.\n",
       "\n",
       "Putting it all together:\n",
       "\n",
       "1. **Order Management Layer**: This includes OrderService which handles creating orders by making HTTP POST requests to a specific endpoint. It's probably responsible for the core business logic of processing orders.\n",
       "\n",
       "2. **Delivery Controller**: This layer interacts with DeliveryService, which is likely where the actual delivery data and operations are handled. The controller uses Spring annotations to map its create method to an API endpoint.\n",
       "\n",
       "3. **Food Gateway Service**: Using RestTemplate, this service handles creating orders by making POST requests to both order and delivery endpoints. It's part of the food gateway layer, integrating with other systems like OrderService and DeliveryService.\n",
       "\n",
       "**Interactions**:\n",
       "- The Food Gateway Service interacts with OrderService and DeliveryService by calling their create methods after processing the incoming request.\n",
       "- The DeliveryController injects DeliveryService and uses it to handle order creation specifically for deliveries.\n",
       "- The OrderService is used both directly (by FoodService) and through its injected bindings.\n",
       "\n",
       "Potential issues or considerations might include handling different types of orders, ensuring data consistency between layers, and managing API endpoints correctly. Also, testing would be crucial to ensure that each service layer works as expected when called from different contexts like the food gateway versus direct order processing.\n",
       "</think>\n",
       "\n",
       "**Technical Design Document**\n",
       "\n",
       "**1. Overview**\n",
       "This system is designed for a food delivery platform with three main layers: Order Management, Delivery Controller, and Food Gateway Service.\n",
       "\n",
       "**2. Modules**\n",
       "\n",
       "- **Order Management Layer (OrderService.java)**\n",
       "  - Implements core order creation functionality by making HTTP POST requests.\n",
       "  - Uses Lombok's @RequiredArgsConstructor for constructor injection to handle parameters like payment URLs.\n",
       "  - Stores orders via REST API calls mapped to endpoints such as /delivery.\n",
       "\n",
       "- **Delivery Controller (DeliveryController.java)**\n",
       "  - Acts as the entry point for delivering food through RESTful web services.\n",
       "  - Injects DeliveryService for order creation and maps its create method to an endpoint (/delivery).\n",
       "  - Consumes JSON request bodies formatted with delivery details like driver name, route, etc.\n",
       "\n",
       "- **Food Gateway Service (FoodService.java)**\n",
       "  - Integrates with external systems via RESTTemplate annotations.\n",
       "  - Makes API calls to both OrderService and DeliveryService endpoints when processing orders from the food gateway layer.\n",
       "  - Handles creation of orders by invoking these services with request bodies containing necessary data like order ID, user ID, etc.\n",
       "\n",
       "**3. End-to-End Flow**\n",
       "\n",
       "1. **Order Creation via Food Gateway Service**\n",
       "   - Receives a JSON body containing order details (user_id, order_id).\n",
       "   - Uses RestTemplate to make POST requests to both OrderService and DeliveryService endpoints with the provided request body.\n",
       "   - Exports a food delivery ticket by combining the received JSON data with additional information from the services.\n",
       "\n",
       "2. **Order Creation via Direct Route**\n",
       "   - Order Service receives a request for creating an order, typically through its REST API endpoint (/delivery).\n",
       "   - Makes POST requests to both OrderService and DeliveryService endpoints using RestTemplate.\n",
       "   - Returns an order ticket containing structured data like order ID, user ID, etc.\n",
       "\n",
       "**4. Interactions Between Modules**\n",
       "\n",
       "- **Order Management Layer (OrderService)**\n",
       "  - Used directly by Food Gateway Service via RESTTemplate annotations for order creation.\n",
       "  - Also injected into other services where needed.\n",
       "\n",
       "- **Delivery Controller**\n",
       "  - Injects DeliveryService and maps its create method to an endpoint.\n",
       "  - Consumes JSON request bodies formatted with specific delivery details, passed as parameters in request body format.\n",
       "\n",
       "**5. Challenges**\n",
       "\n",
       "- Ensuring data consistency between layers\n",
       "- Correct handling of different types of orders (e.g., food delivery vs direct)\n",
       "- Efficient management of API endpoints for order and delivery services"
      ],
      "text/plain": [
       "<IPython.core.display.Markdown object>"
      ]
     },
     "metadata": {},
     "output_type": "display_data"
    }
   ],
   "source": [
    "from IPython.display import display, Markdown, Latex\n",
    "display(Markdown(response.response))"
   ]
  }
 ],
 "metadata": {
  "kernelspec": {
   "display_name": ".venv",
   "language": "python",
   "name": "python3"
  },
  "language_info": {
   "codemirror_mode": {
    "name": "ipython",
    "version": 3
   },
   "file_extension": ".py",
   "mimetype": "text/x-python",
   "name": "python",
   "nbconvert_exporter": "python",
   "pygments_lexer": "ipython3",
   "version": "3.11.11"
  }
 },
 "nbformat": 4,
 "nbformat_minor": 2
}
